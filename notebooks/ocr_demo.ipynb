{
 "cells": [
  {
   "cell_type": "markdown",
   "metadata": {},
   "source": [
    "# OCR Demo\n\nThis notebook generates a sample image and extracts text using `ocr.py`."
   ]
  },
  {
   "cell_type": "code",
   "execution_count": null,
   "metadata": {},
   "outputs": [],
   "source": [
    "# Generate sample image\n",
    "import subprocess, sys\n",
    "subprocess.run([sys.executable, 'scripts/generate_sample_image.py'], check=True)\n",
    "print('Sample generated at samples/hello_ocr.png')"
   ]
  },
  {
   "cell_type": "code",
   "execution_count": null,
   "metadata": {},
   "outputs": [],
   "source": [
    "# Run OCR on the sample\n",
    "from pathlib import Path\n",
    "from ocr import ocr_image\n",
    "text = ocr_image(Path('samples/hello_ocr.png'), lang='eng', psm=6, denoise='median', deskew=True)\n",
    "print(text)"
   ]
  }
 ],
 "metadata": {
  "kernelspec": {
   "display_name": "Python 3",
   "language": "python",
   "name": "python3"
  },
  "language_info": {
   "name": "python",
   "version": "3"
  }
 },
 "nbformat": 4,
 "nbformat_minor": 5
}

